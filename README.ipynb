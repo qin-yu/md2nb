{
  "cells": [
    {
      "cell_type": "markdown",
      "metadata": {},
      "source": [
        "# `md2nb` - Converting Markdown Files to Jupyter Notebook\n",
        "[![BSD license](https://img.shields.io/badge/license-BSD%203%20Clause-blue.svg)](https://github.com/qin-yu/md2nb/blob/main/LICENSE)\n",
        "![Python v3.6.0](https://img.shields.io/badge/Python-v3.x.x-brightgreen.svg)\n",
        "\n",
        "Created by [Qin Yu](https://github.com/qin-yu), Nov 2020 - Nov 2020\n",
        "\n",
        "## Table of Contents\n",
        "- [Manifesto](#manifesto)\n",
        "- [Installation](#installation)\n",
        "- [Usage](#usage)\n",
        "\n",
        "# Manifesto\n",
        "Taking notes using Markdown makes it easier for sharing on GitHub, but GitHub doesn't display Latex-style mathematics in `.md` files. A good workaround is to write Markdown in Jupyter notebooks and share the `.ipynb` files on GitHub, since everything inside is usually rendered properly. However, it is easier to take notes on a local text editor such as VSCode with Markdown support, becuase it automatically generates and updates the table of content, and you don't have to run a notebook server to take notes.\n",
        "\n",
        "This package is quite simple. But the author decided to make it a package because of the encouraging [talk](https://www.youtube.com/watch?v=GIF3LaRqgXo) by Mark Smith at EuroPython 2019.\n",
        "\n",
        "# Installation\n",
        "```bash\n",
        "$ # install using:\n",
        "$ python -m pip install md2nb\n",
        "$\n",
        "$ # to verify installation and show help:\n",
        "$ md2nb\n",
        "```\n",
        "\n",
        "# Usage\n",
        "The simplest example - in the root directory of this repo:\n",
        "```bash\n",
        "$ md2nb --dir . -r\n",
        "Converting '.md' files within ./ and all subdirectories:\n",
        "\t./README.md\n",
        "\t./test/example.md\n",
        "\t./test/example-gB18030.md\n",
        "```\n",
        "\n",
        "There are two recommended ways of using `md2nb`:\n",
        "1. `md2nb` converts all files with `--ext` specified extensions in the `--dir` specified directories into `.ipynb` files with a single Markdown block. For example:\n",
        "    ```bash\n",
        "    # to convert all Markdown and text files in the current directory and all of its subdirectories\n",
        "    $ md2nb --dir . -r --ext .md .txt\n",
        "    ```\n",
        "2. `md2nb` converts all files identified by their file paths. For example:\n",
        "    ```bash\n",
        "    # to convert all Markdown files in the current directory and all of its subdirectories\n",
        "    $ md2nb *.md -r\n",
        "    ```\n",
        "3. In fact, these two ways can be combined. For example:\n",
        "    ```bash\n",
        "    # to convert README, LICENSE, all .md and .txt files in . and ./doc/\n",
        "    $ md2nb README LICENSE --dir . doc --ext .md .txt\n",
        "    ```\n"
      ]
    }
  ],
  "metadata": {
    "kernelspec": {
      "display_name": "Python 3",
      "language": "python",
      "name": "python3"
    },
    "language_info": {
      "codemirror_mode": {
        "name": "ipython",
        "version": 3
      },
      "file_extension": ".py",
      "mimetype": "text/x-python",
      "name": "python",
      "nbconvert_exporter": "python",
      "pygments_lexer": "ipython3",
      "version": "3.7.8"
    }
  },
  "nbformat": 4,
  "nbformat_minor": 4
}