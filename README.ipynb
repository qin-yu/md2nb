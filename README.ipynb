{
  "cells": [
    {
      "cell_type": "markdown",
      "metadata": {},
      "source": [
        "# `md2nb` - Converting Markdown Files to Jupyter Notebook\n",
        "[![GitHub license](https://img.shields.io/badge/license-BSD%203%20Clause-blue.svg)](https://github.com/qin-yu/ml-julia-boston-housing/blob/master/LICENSE)\n",
        "[![Julia v1.0.1](https://img.shields.io/badge/Python-v3.x.x-brightgreen.svg)](https://julialang.org/blog/2018/08/one-point-zero)\n",
        "\n",
        "by [Qin Yu](https://github.com/qin-yu), Nov 2020\n",
        "\n",
        "## Table of Contents\n",
        "- [Manifesto](#manifesto)\n",
        "- [Usage](#usage)\n",
        "\n",
        "# Manifesto\n",
        "Taking notes using Markdown makes it easier for sharing on GitHub, but GitHub doesn't display Latex-style mathematics in `.md` files. A good workaround is to write Markdown in Jupyter notebooks and share the `.ipynb` files on GitHub, since everything inside is usually rendered properly. However, it is easier to take notes on a local text editor such as VSCode with Markdown support, becuase it automatically generates and updates the table of content, and you don't have to run a notebook server to take notes.\n",
        "\n",
        "This package is quite simple. But the author decided to make it a package because of the encouraging [talk](https://www.youtube.com/watch?v=GIF3LaRqgXo) by Mark Smith at EuroPython 2019.\n",
        "\n",
        "# Usage\n",
        "`md2nb.py` finds all `.md` files in the current working directory and port them into `.ipynb` files with a single Markdown block.\n",
        "\n",
        "You can either install it for easy invocation:\n",
        "```bash\n",
        "$ python -m pip install md2nb\n",
        "$ cd <THE FOLDER CONTAINING MARKDOWNS>\n",
        "$ md2nb\n",
        "```\n",
        "\n",
        "Or simply use the single python script:\n",
        "```bash\n",
        "$ python md2nb.py\n",
        "```\n"
      ]
    }
  ],
  "metadata": {
    "kernelspec": {
      "display_name": "Python 3",
      "language": "python",
      "name": "python3"
    },
    "language_info": {
      "codemirror_mode": {
        "name": "ipython",
        "version": 3
      },
      "file_extension": ".py",
      "mimetype": "text/x-python",
      "name": "python",
      "nbconvert_exporter": "python",
      "pygments_lexer": "ipython3",
      "version": "3.7.8"
    }
  },
  "nbformat": 4,
  "nbformat_minor": 4
}