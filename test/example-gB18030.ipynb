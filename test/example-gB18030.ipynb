{
  "cells": [
    {
      "cell_type": "markdown",
      "metadata": {},
      "source": [
        "# An Example\n",
        "- [An Example](#an-example)\n",
        "  - [At a Glance](#at-a-glance)\n",
        "  - [About <abbr title=\"European Molecular Biology Laboratory\">EMBL</abbr>](#about-abbr-titleeuropean-molecular-biology-laboratoryemblabbr)\n",
        "  - [Test Some Non-latin Characters](#test-some-non-latin-characters)\n",
        "\n",
        "## At a Glance\n",
        "This is a picture of [EMBL Heidelberg](https://www.embl.de/):\n",
        "![Image](embl.jpg \"EMBL\")\n",
        "\n",
        "## About <abbr title=\"European Molecular Biology Laboratory\">EMBL</abbr>\n",
        "> The European Molecular Biology Laboratory (EMBL)\n",
        "> is one of the world\u2019s leading research institutions,\n",
        "> and Europe\u2019s flagship laboratory for the life sciences.\n",
        "\n",
        "## Test Some Non-latin Characters\n",
        "Qin Yu - aka \u4f59\u6c81<br>\n",
        "2020\u5341\u4e00\u670827\u65e5\n"
      ]
    }
  ],
  "metadata": {
    "kernelspec": {
      "display_name": "Python 3",
      "language": "python",
      "name": "python3"
    },
    "language_info": {
      "codemirror_mode": {
        "name": "ipython",
        "version": 3
      },
      "file_extension": ".py",
      "mimetype": "text/x-python",
      "name": "python",
      "nbconvert_exporter": "python",
      "pygments_lexer": "ipython3",
      "version": "3.7.8"
    }
  },
  "nbformat": 4,
  "nbformat_minor": 4
}